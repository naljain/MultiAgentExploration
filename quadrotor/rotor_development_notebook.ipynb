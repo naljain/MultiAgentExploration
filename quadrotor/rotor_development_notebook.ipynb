{
 "cells": [
  {
   "cell_type": "code",
   "execution_count": 43,
   "metadata": {},
   "outputs": [],
   "source": [
    "\"\"\"\n",
    "Imports\n",
    "\"\"\"\n",
    "# The simulator is instantiated using the Environment class\n",
    "from rotorpy.environments import Environment\n",
    "\n",
    "# Vehicles. Currently there is only one. \n",
    "# There must also be a corresponding parameter file. \n",
    "from rotorpy.vehicles.multirotor import Multirotor\n",
    "from rotorpy.vehicles.crazyflie_params import quad_params\n",
    "# from rotorpy.vehicles.hummingbird_params import quad_params  # There's also the Hummingbird\n",
    "\n",
    "# You will also need a controller (currently there is only one) that works for your vehicle. \n",
    "from rotorpy.controllers.quadrotor_control import SE3Control\n",
    "\n",
    "# And a trajectory generator\n",
    "from rotorpy.trajectories.hover_traj import HoverTraj\n",
    "\n",
    "# Also, worlds are how we construct obstacles. The following class contains methods related to constructing these maps. \n",
    "from rotorpy.world import World\n",
    "\n",
    "import os\n",
    "import numpy as np\n",
    "class Quadrotor():\n",
    "    def __init__(self, world=None, x0=None):\n",
    "        self.x0 = x0\n",
    "\n",
    "        # Class instantiates the enviroment and quadrotor\n",
    "\n",
    "        # world = World.from_file(os.path.abspath(os.path.join(os.path.dirname(''),'..','MultiAgentExploration','rotorpy','rotorpy','worlds','double_pillar.json')))\n",
    "\n",
    "        self.sim_instance = Environment(vehicle=Multirotor(quad_params),           # vehicle object, must be specified. \n",
    "                           controller=SE3Control(quad_params),        # controller object, must be specified.\n",
    "                           trajectory=HoverTraj,         # trajectory object, must be specified.\n",
    "                           wind_profile=None,               # OPTIONAL: wind profile object, if none is supplied it will choose no wind. \n",
    "                           sim_rate     = 100,                        # OPTIONAL: The update frequency of the simulator in Hz. Default is 100 Hz.\n",
    "                           imu          = None,                       # OPTIONAL: imu sensor object, if none is supplied it will choose a default IMU sensor.\n",
    "                           mocap        = None,                       # OPTIONAL: mocap sensor object, if none is supplied it will choose a default mocap.  \n",
    "                           estimator    = None,                       # OPTIONAL: estimator object\n",
    "                           world        = world,                      # OPTIONAL: the world, same name as the file in rotorpy/worlds/, default (None) is empty world\n",
    "                           safety_margin= 0.25                        # OPTIONAL: defines the radius (in meters) of the sphere used for collision checking\n",
    "                       )\n",
    "    \n",
    "    def discrete_time_dynamics(self, x_t, u_t, delta_t):\n",
    "        '''Dynamics of the quadrotor. Returns (x_{t+delta_t}, x_dot) given (x_t, u_t, delta_t)'''\n",
    "        return self. sim_instance. vehicle.step(x_t, u_t, delta_t), self.sim_instance.vehicle.statedot(x_t, u_t, delta_t)"
   ]
  },
  {
   "cell_type": "code",
   "execution_count": 44,
   "metadata": {},
   "outputs": [
    {
     "data": {
      "text/plain": [
       "({'x': array([ 0.        ,  0.        , -3.41248833]),\n",
       "  'v': array([ 0.      ,  0.      , -5.138541]),\n",
       "  'q': array([0., 0., 0., 1.]),\n",
       "  'w': array([0., 0., 0.]),\n",
       "  'wind': array([0., 0., 0.]),\n",
       "  'rotor_speeds': array([111.42153902,   1.66980245, -78.42506748, -56.36661493])},\n",
       " {'vdot': array([ 0.        ,  0.        , -0.00022535]),\n",
       "  'wdot': array([0., 0., 0.])})"
      ]
     },
     "execution_count": 44,
     "metadata": {},
     "output_type": "execute_result"
    }
   ],
   "source": [
    "x = {'x': np.array([0,0,0]),\n",
    "      'v': np.zeros(3,),\n",
    "      'q': np.array([0, 0, 0, 1]), # [i,j,k,w]\n",
    "      'w': np.zeros(3,),\n",
    "      'wind': np.array([0,0,0]),  # Since wind is handled elsewhere, this value is overwritten\n",
    "      'rotor_speeds': np.array([1788.53, 1788.53, 1788.53, 1788.53])}\n",
    "quadrotor = Quadrotor(x0=x)\n",
    "\n",
    "control_input = {'cmd_motor_speeds':0,\n",
    "                    'cmd_motor_thrusts':0,\n",
    "                    'cmd_thrust':0,\n",
    "                    'cmd_moment':0,\n",
    "                    'cmd_q':0,\n",
    "                    'cmd_w':0,\n",
    "                    'cmd_v':0,\n",
    "                    'cmd_acc': 0}\n",
    "\n",
    "quadrotor.discrete_time_dynamics(quadrotor.x0, control_input, delta_t=1)"
   ]
  }
 ],
 "metadata": {
  "kernelspec": {
   "display_name": ".venv",
   "language": "python",
   "name": "python3"
  },
  "language_info": {
   "codemirror_mode": {
    "name": "ipython",
    "version": 3
   },
   "file_extension": ".py",
   "mimetype": "text/x-python",
   "name": "python",
   "nbconvert_exporter": "python",
   "pygments_lexer": "ipython3",
   "version": "3.11.1"
  }
 },
 "nbformat": 4,
 "nbformat_minor": 2
}
